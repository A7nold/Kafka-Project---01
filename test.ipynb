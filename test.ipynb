{
 "cells": [
  {
   "cell_type": "code",
   "execution_count": 1,
   "metadata": {},
   "outputs": [],
   "source": [
    "import random\n",
    "import string"
   ]
  },
  {
   "cell_type": "code",
   "execution_count": 9,
   "metadata": {},
   "outputs": [
    {
     "name": "stdout",
     "output_type": "stream",
     "text": [
      "kpbne\n",
      "65\n",
      "kpbne@gmail.com\n"
     ]
    }
   ],
   "source": [
    "\n",
    "name = ''.join(random.choices(string.ascii_lowercase,k=5))\n",
    "age = random.randint(20,80)\n",
    "email = f\"{name.lower()}@gmail.com\"\n",
    "\n"
   ]
  },
  {
   "cell_type": "code",
   "execution_count": null,
   "metadata": {},
   "outputs": [],
   "source": [
    "query = f\"insert into {studentinfo} values (%S,%S,%S)\"\n",
    "values = (name,age,email)\n",
    "\n",
    "cursor.execute(query,values)\n",
    "\n",
    "db.commit()\n",
    "\n",
    "print(\"inserted values successfully\")\n",
    "\n",
    "time.sleep(1)\n",
    "\n"
   ]
  }
 ],
 "metadata": {
  "kernelspec": {
   "display_name": "Python 3",
   "language": "python",
   "name": "python3"
  },
  "language_info": {
   "codemirror_mode": {
    "name": "ipython",
    "version": 3
   },
   "file_extension": ".py",
   "mimetype": "text/x-python",
   "name": "python",
   "nbconvert_exporter": "python",
   "pygments_lexer": "ipython3",
   "version": "3.10.11"
  },
  "orig_nbformat": 4
 },
 "nbformat": 4,
 "nbformat_minor": 2
}
