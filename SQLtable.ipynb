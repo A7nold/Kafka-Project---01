{
 "cells": [
  {
   "cell_type": "code",
   "execution_count": 2,
   "metadata": {},
   "outputs": [],
   "source": [
    "import mysql.connector as conn\n",
    "import random\n",
    "import string\n",
    "import time\n",
    "import json\n",
    "from datetime import datetime\n",
    "import pandas as pd\n",
    "from sqlalchemy import create_engine"
   ]
  },
  {
   "cell_type": "code",
   "execution_count": 3,
   "metadata": {},
   "outputs": [],
   "source": [
    "mydb = conn.Connect(host = \"localhost\", port=\"3306\", user = \"root\", passwd = \"root\")"
   ]
  },
  {
   "cell_type": "code",
   "execution_count": 4,
   "metadata": {},
   "outputs": [],
   "source": [
    "cursor = mydb.cursor()"
   ]
  },
  {
   "cell_type": "code",
   "execution_count": 5,
   "metadata": {},
   "outputs": [
    {
     "data": {
      "text/plain": [
       "[('information_schema',), ('mysql',), ('performance_schema',), ('sqltable',)]"
      ]
     },
     "execution_count": 5,
     "metadata": {},
     "output_type": "execute_result"
    }
   ],
   "source": [
    "#cursor.execute(\"drop database project\")\n",
    "cursor.execute(\"show databases\")\n",
    "cursor.fetchall()"
   ]
  },
  {
   "cell_type": "code",
   "execution_count": 6,
   "metadata": {},
   "outputs": [],
   "source": [
    "cursor.execute(\"use sqltable\")"
   ]
  },
  {
   "cell_type": "code",
   "execution_count": 7,
   "metadata": {},
   "outputs": [],
   "source": [
    "cursor.execute(\"drop table studentinfo\")"
   ]
  },
  {
   "cell_type": "code",
   "execution_count": 8,
   "metadata": {},
   "outputs": [],
   "source": [
    "cursor.execute(\"create table if not exists studentinfo(name varchar(50), age int(5), email varchar(50), created_at datetime)\")\n"
   ]
  },
  {
   "cell_type": "code",
   "execution_count": 9,
   "metadata": {},
   "outputs": [],
   "source": [
    "# cursor.execute(\"show tables\")\n",
    "# cursor.fetchall()"
   ]
  },
  {
   "cell_type": "code",
   "execution_count": 13,
   "metadata": {},
   "outputs": [
    {
     "name": "stdout",
     "output_type": "stream",
     "text": [
      "values inserted\n",
      "values inserted\n",
      "values inserted\n",
      "values inserted\n"
     ]
    },
    {
     "ename": "KeyboardInterrupt",
     "evalue": "",
     "output_type": "error",
     "traceback": [
      "\u001b[1;31m---------------------------------------------------------------------------\u001b[0m",
      "\u001b[1;31mKeyboardInterrupt\u001b[0m                         Traceback (most recent call last)",
      "Cell \u001b[1;32mIn[13], line 17\u001b[0m\n\u001b[0;32m     13\u001b[0m mydb\u001b[39m.\u001b[39mcommit()\n\u001b[0;32m     15\u001b[0m \u001b[39mprint\u001b[39m(\u001b[39m\"\u001b[39m\u001b[39mvalues inserted\u001b[39m\u001b[39m\"\u001b[39m)\n\u001b[1;32m---> 17\u001b[0m time\u001b[39m.\u001b[39;49msleep(\u001b[39m1\u001b[39;49m)\n\u001b[0;32m     19\u001b[0m \u001b[39m#cursor.close()\u001b[39;00m\n\u001b[0;32m     20\u001b[0m \n\u001b[0;32m     21\u001b[0m \u001b[39m#mydb.close()\u001b[39;00m\n",
      "\u001b[1;31mKeyboardInterrupt\u001b[0m: "
     ]
    }
   ],
   "source": [
    "while True:\n",
    "    ra_name = ''.join(random.choices(string.ascii_lowercase,k=6))\n",
    "    ra_age = random.randint(20,80)\n",
    "    ra_email = f\"{ra_name.lower()}@gmail.com\"\n",
    "    ra_created_at = datetime.now()\n",
    "    \n",
    "    query = \"INSERT INTO studentinfo(name,age,email,created_at) VALUES(%s, %s, %s, %s)\"\n",
    "    \n",
    "    values = (ra_name,ra_age,ra_email,ra_created_at)\n",
    "    \n",
    "    cursor.execute(query,values)\n",
    "    \n",
    "    mydb.commit()\n",
    "    \n",
    "    print(\"values inserted\")\n",
    "    \n",
    "    time.sleep(1)\n",
    "    \n",
    "    #cursor.close()\n",
    "    \n",
    "    #mydb.close()\n",
    "    "
   ]
  },
  {
   "cell_type": "code",
   "execution_count": null,
   "metadata": {},
   "outputs": [
    {
     "name": "stdout",
     "output_type": "stream",
     "text": [
      "[('chuxcs', 28, 'bfwrb@gmail.com', datetime.datetime(2023, 6, 23, 14, 39, 29)), ('bplrul', 79, 'bfwrb@gmail.com', datetime.datetime(2023, 6, 23, 14, 39, 30)), ('ycmmwl', 51, 'bfwrb@gmail.com', datetime.datetime(2023, 6, 23, 14, 39, 31)), ('eusjbj', 32, 'bfwrb@gmail.com', datetime.datetime(2023, 6, 23, 14, 39, 32)), ('qpxnyt', 26, 'bfwrb@gmail.com', datetime.datetime(2023, 6, 23, 14, 39, 33)), ('vslqek', 78, 'bfwrb@gmail.com', datetime.datetime(2023, 6, 23, 14, 39, 34)), ('nxkaor', 41, 'bfwrb@gmail.com', datetime.datetime(2023, 6, 23, 14, 39, 35))]\n"
     ]
    }
   ],
   "source": [
    "# cursor.execute('select * from studentinfo')\n",
    "# #cursor.fetchall()\n",
    "# df = cursor.fetchall()\n",
    "# print(df)"
   ]
  },
  {
   "cell_type": "code",
   "execution_count": null,
   "metadata": {},
   "outputs": [],
   "source": [
    "columns=['name', 'age', 'email', 'created_at']"
   ]
  }
 ],
 "metadata": {
  "kernelspec": {
   "display_name": "Python 3",
   "language": "python",
   "name": "python3"
  },
  "language_info": {
   "codemirror_mode": {
    "name": "ipython",
    "version": 3
   },
   "file_extension": ".py",
   "mimetype": "text/x-python",
   "name": "python",
   "nbconvert_exporter": "python",
   "pygments_lexer": "ipython3",
   "version": "3.10.11"
  },
  "orig_nbformat": 4
 },
 "nbformat": 4,
 "nbformat_minor": 2
}
